{
 "cells": [
  {
   "cell_type": "code",
   "execution_count": 13,
   "metadata": {},
   "outputs": [],
   "source": [
    "#try code to find hospital names near by mi"
   ]
  },
  {
   "cell_type": "code",
   "execution_count": 14,
   "metadata": {},
   "outputs": [],
   "source": [
    "from geopy.geocoders import Nominatim\n",
    "from geopy import distance\n",
    "import pandas as pd"
   ]
  },
  {
   "cell_type": "code",
   "execution_count": 15,
   "metadata": {},
   "outputs": [
    {
     "name": "stdout",
     "output_type": "stream",
     "text": [
      "latitude: 18.5514754\n",
      "longitude: 73.8281451\n"
     ]
    }
   ],
   "source": [
    "#import dataset\n",
    "data = pd.read_csv(\"hospital_adress.csv\")\n",
    "\n",
    "#create instance of nominatim geocoder\n",
    "dist = Nominatim(user_agent=\"distance_find\")\n",
    "\n",
    "\n",
    "#my location-----------------\n",
    "my_location =  \"girls hostel, pune university, pune\"\n",
    "\n",
    "l1 = dist.geocode(my_location)\n",
    "loc1 = ((l1.latitude  , l1.longitude))\n",
    "\n",
    "#display latitude and longitude for my location\n",
    "print(\"latitude:\" , l1.latitude)\n",
    "print(\"longitude:\" , l1.longitude)\n",
    "\n"
   ]
  },
  {
   "cell_type": "code",
   "execution_count": 16,
   "metadata": {},
   "outputs": [
    {
     "name": "stdout",
     "output_type": "stream",
     "text": [
      "Distance :3.782125484015163 km\n",
      "Distance :3.719024655507595 km\n",
      "Distance :1.5936273252521744 km\n",
      "Distance :5.393873789177774 km\n",
      "Distance :5.071819674618607 km\n",
      "Distance :6.44368495928187 km\n",
      "Distance :5.458317074682555 km\n",
      "Distance :5.527999003916499 km\n",
      "Distance :2.8460684416007296 km\n",
      "Distance :5.629958692124765 km\n",
      "Distance :4.564140172599389 km\n",
      "Distance :4.63873337393013 km\n",
      "Distance :5.422310536429624 km\n",
      "Distance :9.668950128618764 km\n",
      "Distance :4.419986989241578 km\n",
      "Distance :6.037137412211312 km\n",
      "Distance :6.492944114185804 km\n",
      "Distance :7.514597755154929 km\n",
      "Distance :2.4931831798654414 km\n",
      "Distance :9.222974284336916 km\n",
      "Distance :6.977347762632958 km\n",
      "Distance :6.26260596630147 km\n",
      "Distance :4.201507092532008 km\n",
      "Distance :4.6558448156529835 km\n",
      "Distance :5.835447760937679 km\n",
      "Distance :4.3332320199760055 km\n",
      "Distance :9.266055066085519 km\n",
      "Distance :9.363257626963067 km\n",
      "Distance :8.612135728219453 km\n",
      "Distance :11.831338217586108 km\n",
      "Distance :9.953836493167785 km\n",
      "Distance :3.8330723609660375 km\n",
      "Distance :3.872682961047215 km\n",
      "Distance :8.22099914519157 km\n",
      "Distance :11.17034794701098 km\n",
      "Distance :2.5659669925691277 km\n",
      "Distance :5.218443414391404 km\n",
      "Distance :16.694358009430516 km\n",
      "Distance :7.558239245901918 km\n",
      "Distance :2.426548432768178 km\n",
      "Distance :5.81660700288616 km\n",
      "Distance :2.635922410494399 km\n",
      "Distance :7.337747508668623 km\n",
      "Distance :11.476614348086043 km\n",
      "Distance :7.944630036883113 km\n",
      "Distance :7.365648052274934 km\n",
      "Distance :9.417549768966763 km\n"
     ]
    }
   ],
   "source": [
    "#for hospital address given data\n",
    "\n",
    "def find_distance(data ,loc1):       #loc1 my location\n",
    "    \n",
    "    #empty dic to store distance\n",
    "    distance_km = {}\n",
    "    \n",
    "    for adress in data:\n",
    "        h_location = dist.geocode(adress)\n",
    "        if h_location:\n",
    "            \n",
    "                    distance_km[adress] = distance.distance(loc1 , (h_location.latitude, h_location.longitude)).km\n",
    "        else:\n",
    "            distance_km[adress] = \"something is wrong!\"\n",
    "    \n",
    "    return distance_km\n",
    "   \n",
    "hospital_distances = find_distance( data['adress'] ,  loc1)\n",
    "   \n",
    "\n",
    "# Print the locations\"\n",
    "for adress, dist_km in hospital_distances.items(): \n",
    "    if dist_km is not None:\n",
    "        print(f\"Distance :{dist_km} km\")\n",
    "    else:\n",
    "        print(\"No location found\")"
   ]
  },
  {
   "cell_type": "code",
   "execution_count": 17,
   "metadata": {},
   "outputs": [
    {
     "name": "stdout",
     "output_type": "stream",
     "text": [
      "Hospital address: 1160/61, University Road, Shivajinagar, Pune, Maharashtra 41100\n",
      "Distance: 1.5936273252521744 km\n",
      "Hospital address: 1671-75,ganeshkhind road ,shivajinagar , pune\n",
      "Distance: 2.8460684416007296 km\n",
      "Hospital address: Aundhgaon - Aundh Dmart Road, Aundh, Pune\n",
      "Distance: 2.4931831798654414 km\n",
      "Hospital address: Shiv Sagar, Ramchandra Gayakwad Path, Marutrao Gaikwad nagar, Aundh, Pune\n",
      "Distance: 2.5659669925691277 km\n",
      "Hospital address: Model Colony, Pune, Pune District, Maharashtra, 411016, India\n",
      "Distance: 2.426548432768178 km\n",
      "Hospital address: Juni Sangvi, Pimpri-Chinchwad, Haveli, Pune\n",
      "Distance: 2.635922410494399 km\n"
     ]
    }
   ],
   "source": [
    "# find my near hospital names---\n",
    "near = {}\n",
    "\n",
    "def near_me(hospital_distances):\n",
    "    for adress, dist_km in hospital_distances.items():\n",
    "         #if dist_km != None  and dist_km  <= 2:\n",
    "        if isinstance(dist_km, float) and dist_km <= 3:\n",
    "            near[adress] = dist_km\n",
    "         \n",
    "    return near\n",
    "\n",
    "# fun call\n",
    "hospital_near = near_me(hospital_distances)\n",
    "\n",
    "# Display hospital name\n",
    "for adress, dist_km in hospital_near.items(): \n",
    "    print(f\"Hospital address: {adress}\")\n",
    "    print(f\"Distance: {dist_km} km\")\n",
    "\n",
    "# If no hospitals -\n",
    "if not hospital_near:\n",
    "    print(\"No hospitals found within 2 km.\")\n"
   ]
  },
  {
   "cell_type": "code",
   "execution_count": 18,
   "metadata": {},
   "outputs": [
    {
     "name": "stdout",
     "output_type": "stream",
     "text": [
      "Hospital name: deccan harikar hospital \n",
      "Hospital name: oyster and pearl hospital\n",
      "Hospital name: ESI Hospital\n",
      "Hospital name: Dr Sanjay Kolte - General, Hernia & Laparoscopic Surgeon\n",
      "Hospital name: Prudent International Health Clinic-|SHIVAJI NAGAR|\n",
      "Hospital name: Ashirwad Clinic\n",
      "Hospital name: Om Clinic\n"
     ]
    }
   ],
   "source": [
    "def hospital_name(data, near):\n",
    "    for index, row in data.iterrows():\n",
    "        address = row['adress']\n",
    "        if address in near:\n",
    "            print(f\"Hospital name: {row['name']}\")\n",
    "\n",
    "# Call the function\n",
    "hospital_name(data, hospital_near)\n"
   ]
  }
 ],
 "metadata": {
  "kernelspec": {
   "display_name": "Python 3",
   "language": "python",
   "name": "python3"
  },
  "language_info": {
   "codemirror_mode": {
    "name": "ipython",
    "version": 3
   },
   "file_extension": ".py",
   "mimetype": "text/x-python",
   "name": "python",
   "nbconvert_exporter": "python",
   "pygments_lexer": "ipython3",
   "version": "3.11.4"
  }
 },
 "nbformat": 4,
 "nbformat_minor": 2
}
